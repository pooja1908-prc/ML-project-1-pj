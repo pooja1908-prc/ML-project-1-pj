{
  "cells": [
    {
      "cell_type": "code",
      "execution_count": 4,
      "metadata": {
        "id": "CsC_VwQtlJQF"
      },
      "outputs": [],
      "source": [
        "import pandas as pd\n"
      ]
    },
    {
      "cell_type": "code",
      "execution_count": 5,
      "metadata": {
        "id": "5kow3GB74QyH"
      },
      "outputs": [],
      "source": [
        "import numpy as np"
      ]
    },
    {
      "cell_type": "code",
      "execution_count": 6,
      "metadata": {
        "id": "hCNTCutP4W88"
      },
      "outputs": [],
      "source": [
        "import matplotlib.pyplot as plt\n"
      ]
    },
    {
      "cell_type": "code",
      "execution_count": 7,
      "metadata": {
        "id": "viuazItZ4inG"
      },
      "outputs": [],
      "source": [
        "from sklearn.datasets import load_digits"
      ]
    },
    {
      "cell_type": "code",
      "execution_count": 8,
      "metadata": {
        "id": "thUI8V4J4uS1"
      },
      "outputs": [],
      "source": [
        "df = load_digits()"
      ]
    },
    {
      "cell_type": "code",
      "execution_count": 11,
      "metadata": {
        "colab": {
          "base_uri": "https://localhost:8080/",
          "height": 227
        },
        "id": "LcC9qDB_40x9",
        "outputId": "dab22966-a4fc-43fb-8eb2-8fbcde5b6dde"
      },
      "outputs": [
        {
          "data": {
            "image/png": "[encoded data removed]",
            "text/plain": [
              "<Figure size 1000x300 with 4 Axes>"
            ]
          },
          "metadata": {},
          "output_type": "display_data"
        }
      ],
      "source": [
        "_,axes = plt.subplots(nrows=1, ncols =4 , figsize=(10,3))\n",
        "for ax,image, label in zip(axes, df.images, df.target):\n",
        "  ax.set_axis_off()\n",
        "  ax.imshow(image, cmap=plt.cm.gray_r, interpolation = \"nearest\")\n",
        "  ax.set_title(\" Training: %i\" % label)"
      ]
    },
    {
      "cell_type": "code",
      "execution_count": 13,
      "metadata": {
        "colab": {
          "base_uri": "https://localhost:8080/",
          "height": 0
        },
        "id": "F0_kNRBa7-OM",
        "outputId": "ced713ee-eada-4935-932a-3258ba256bfe"
      },
      "outputs": [
        {
          "data": {
            "text/plain": [
              "(1797, 8, 8)"
            ]
          },
          "execution_count": 13,
          "metadata": {},
          "output_type": "execute_result"
        }
      ],
      "source": [
        "df.images.shape\n"
      ]
    },
    {
      "cell_type": "code",
      "execution_count": 14,
      "metadata": {
        "colab": {
          "base_uri": "https://localhost:8080/",
          "height": 0
        },
        "id": "jsaLsK6h8LwL",
        "outputId": "36a064c7-feee-450c-9578-686b27b86484"
      },
      "outputs": [
        {
          "data": {
            "text/plain": [
              "array([[ 0.,  0.,  5., 13.,  9.,  1.,  0.,  0.],\n",
              "       [ 0.,  0., 13., 15., 10., 15.,  5.,  0.],\n",
              "       [ 0.,  3., 15.,  2.,  0., 11.,  8.,  0.],\n",
              "       [ 0.,  4., 12.,  0.,  0.,  8.,  8.,  0.],\n",
              "       [ 0.,  5.,  8.,  0.,  0.,  9.,  8.,  0.],\n",
              "       [ 0.,  4., 11.,  0.,  1., 12.,  7.,  0.],\n",
              "       [ 0.,  2., 14.,  5., 10., 12.,  0.,  0.],\n",
              "       [ 0.,  0.,  6., 13., 10.,  0.,  0.,  0.]])"
            ]
          },
          "execution_count": 14,
          "metadata": {},
          "output_type": "execute_result"
        }
      ],
      "source": [
        "df.images[0]"
      ]
    },
    {
      "cell_type": "code",
      "execution_count": 15,
      "metadata": {
        "colab": {
          "base_uri": "https://localhost:8080/",
          "height": 0
        },
        "id": "aXj4ECc98SS4",
        "outputId": "3c29f1e5-2183-485e-8f8e-6954fefc67bb"
      },
      "outputs": [
        {
          "data": {
            "text/plain": [
              "(8, 8)"
            ]
          },
          "execution_count": 15,
          "metadata": {},
          "output_type": "execute_result"
        }
      ],
      "source": [
        "df.images[0].shape"
      ]
    },
    {
      "cell_type": "code",
      "execution_count": 17,
      "metadata": {
        "colab": {
          "base_uri": "https://localhost:8080/",
          "height": 0
        },
        "id": "Irefpzcj8ZMV",
        "outputId": "a666ef25-4190-4622-c386-4344987bba84"
      },
      "outputs": [
        {
          "data": {
            "text/plain": [
              "1797"
            ]
          },
          "execution_count": 17,
          "metadata": {},
          "output_type": "execute_result"
        }
      ],
      "source": [
        "len(df.images)\n"
      ]
    },
    {
      "cell_type": "code",
      "execution_count": 18,
      "metadata": {
        "id": "Jf0EgZpy8jrX"
      },
      "outputs": [],
      "source": [
        "n_samples = len(df.images)\n",
        "data = df.images.reshape((n_samples,-1))"
      ]
    },
    {
      "cell_type": "code",
      "execution_count": 19,
      "metadata": {
        "colab": {
          "base_uri": "https://localhost:8080/",
          "height": 0
        },
        "id": "WxZ56EUA87ia",
        "outputId": "a00973e4-3862-44ae-d101-518ce9a38321"
      },
      "outputs": [
        {
          "data": {
            "text/plain": [
              "array([ 0.,  0.,  5., 13.,  9.,  1.,  0.,  0.,  0.,  0., 13., 15., 10.,\n",
              "       15.,  5.,  0.,  0.,  3., 15.,  2.,  0., 11.,  8.,  0.,  0.,  4.,\n",
              "       12.,  0.,  0.,  8.,  8.,  0.,  0.,  5.,  8.,  0.,  0.,  9.,  8.,\n",
              "        0.,  0.,  4., 11.,  0.,  1., 12.,  7.,  0.,  0.,  2., 14.,  5.,\n",
              "       10., 12.,  0.,  0.,  0.,  0.,  6., 13., 10.,  0.,  0.,  0.])"
            ]
          },
          "execution_count": 19,
          "metadata": {},
          "output_type": "execute_result"
        }
      ],
      "source": [
        "data [0]"
      ]
    },
    {
      "cell_type": "code",
      "execution_count": null,
      "metadata": {
        "id": "Us1JN-0k9c-y"
      },
      "outputs": [],
      "source": []
    },
    {
      "cell_type": "code",
      "execution_count": 20,
      "metadata": {
        "colab": {
          "base_uri": "https://localhost:8080/",
          "height": 0
        },
        "id": "07nsAWrg9B1k",
        "outputId": "57d7357c-6674-4966-eff5-5e45daf41785"
      },
      "outputs": [
        {
          "data": {
            "text/plain": [
              "(64,)"
            ]
          },
          "execution_count": 20,
          "metadata": {},
          "output_type": "execute_result"
        }
      ],
      "source": [
        "data[0].shape"
      ]
    },
    {
      "cell_type": "code",
      "execution_count": 21,
      "metadata": {
        "colab": {
          "base_uri": "https://localhost:8080/",
          "height": 0
        },
        "id": "_QnFnEyd9IPQ",
        "outputId": "eeb0778d-2b1a-4287-a60c-704c1ff4d6f5"
      },
      "outputs": [
        {
          "data": {
            "text/plain": [
              "(1797, 64)"
            ]
          },
          "execution_count": 21,
          "metadata": {},
          "output_type": "execute_result"
        }
      ],
      "source": [
        "data.shape"
      ]
    },
    {
      "cell_type": "code",
      "execution_count": 23,
      "metadata": {
        "colab": {
          "base_uri": "https://localhost:8080/",
          "height": 0
        },
        "id": "rhe5Sh8r9LxV",
        "outputId": "cfe57eb2-a02b-4a94-d332-f0f2e11a4399"
      },
      "outputs": [
        {
          "data": {
            "text/plain": [
              "0.0"
            ]
          },
          "execution_count": 23,
          "metadata": {},
          "output_type": "execute_result"
        }
      ],
      "source": [
        "data.min()"
      ]
    },
    {
      "cell_type": "code",
      "execution_count": 24,
      "metadata": {
        "colab": {
          "base_uri": "https://localhost:8080/",
          "height": 0
        },
        "id": "FZPiglBq9XhH",
        "outputId": "bb7ca1f3-c30b-448d-b21f-3bd9677e4493"
      },
      "outputs": [
        {
          "data": {
            "text/plain": [
              "16.0"
            ]
          },
          "execution_count": 24,
          "metadata": {},
          "output_type": "execute_result"
        }
      ],
      "source": [
        "data.max()"
      ]
    },
    {
      "cell_type": "code",
      "execution_count": 25,
      "metadata": {
        "id": "ajasBblL9ain"
      },
      "outputs": [],
      "source": [
        "data = data/16"
      ]
    },
    {
      "cell_type": "code",
      "execution_count": 26,
      "metadata": {
        "colab": {
          "base_uri": "https://localhost:8080/",
          "height": 0
        },
        "id": "kgwL8WtG9k1b",
        "outputId": "ed1c3306-0e0f-4003-ceed-7a41c54ce9aa"
      },
      "outputs": [
        {
          "data": {
            "text/plain": [
              "0.0"
            ]
          },
          "execution_count": 26,
          "metadata": {},
          "output_type": "execute_result"
        }
      ],
      "source": [
        "data.min()"
      ]
    },
    {
      "cell_type": "code",
      "execution_count": 27,
      "metadata": {
        "colab": {
          "base_uri": "https://localhost:8080/",
          "height": 0
        },
        "id": "xnPdMoef9p2n",
        "outputId": "aff7cf5b-892c-4a3d-c7c6-081fcf66d9f6"
      },
      "outputs": [
        {
          "data": {
            "text/plain": [
              "1.0"
            ]
          },
          "execution_count": 27,
          "metadata": {},
          "output_type": "execute_result"
        }
      ],
      "source": [
        "data.max()"
      ]
    },
    {
      "cell_type": "code",
      "execution_count": 28,
      "metadata": {
        "colab": {
          "base_uri": "https://localhost:8080/",
          "height": 0
        },
        "id": "En9OI98-9uE2",
        "outputId": "bd289a10-2555-44bf-c805-613346144604"
      },
      "outputs": [
        {
          "data": {
            "text/plain": [
              "array([0.    , 0.    , 0.3125, 0.8125, 0.5625, 0.0625, 0.    , 0.    ,\n",
              "       0.    , 0.    , 0.8125, 0.9375, 0.625 , 0.9375, 0.3125, 0.    ,\n",
              "       0.    , 0.1875, 0.9375, 0.125 , 0.    , 0.6875, 0.5   , 0.    ,\n",
              "       0.    , 0.25  , 0.75  , 0.    , 0.    , 0.5   , 0.5   , 0.    ,\n",
              "       0.    , 0.3125, 0.5   , 0.    , 0.    , 0.5625, 0.5   , 0.    ,\n",
              "       0.    , 0.25  , 0.6875, 0.    , 0.0625, 0.75  , 0.4375, 0.    ,\n",
              "       0.    , 0.125 , 0.875 , 0.3125, 0.625 , 0.75  , 0.    , 0.    ,\n",
              "       0.    , 0.    , 0.375 , 0.8125, 0.625 , 0.    , 0.    , 0.    ])"
            ]
          },
          "execution_count": 28,
          "metadata": {},
          "output_type": "execute_result"
        }
      ],
      "source": [
        "data[0]"
      ]
    },
    {
      "cell_type": "code",
      "execution_count": 30,
      "metadata": {
        "id": "6MawNYAd9zyI"
      },
      "outputs": [],
      "source": [
        " from sklearn.model_selection import train_test_split"
      ]
    },
    {
      "cell_type": "code",
      "execution_count": 31,
      "metadata": {
        "id": "kTQXLmkcAC5A"
      },
      "outputs": [],
      "source": [
        "x_train, x_test, y_train, y_test = train_test_split(data, df.target, test_size=0.3)"
      ]
    },
    {
      "cell_type": "code",
      "execution_count": 32,
      "metadata": {
        "colab": {
          "base_uri": "https://localhost:8080/",
          "height": 0
        },
        "id": "uaCVlME9A7M9",
        "outputId": "0b5173c1-d693-4361-dac3-ddb8891a209c"
      },
      "outputs": [
        {
          "data": {
            "text/plain": [
              "((1257, 64), (540, 64), (1257,), (540,))"
            ]
          },
          "execution_count": 32,
          "metadata": {},
          "output_type": "execute_result"
        }
      ],
      "source": [
        "x_train.shape, x_test.shape, y_train.shape , y_test.shape"
      ]
    },
    {
      "cell_type": "code",
      "execution_count": 46,
      "metadata": {
        "id": "NfjOrFU6BK2p"
      },
      "outputs": [],
      "source": [
        "from sklearn.ensemble import RandomForestClassifier\n",
        "\n",
        "# Create an instance of the RandomForestClassifier\n",
        "# rf = RandomForestClassifier()\n",
        "\n",
        "# Now you can fit the model\n",
        "#rf.fit(x_train, y_train)\n"
      ]
    },
    {
      "cell_type": "code",
      "execution_count": 47,
      "metadata": {
        "id": "A68X1w2qBYRb"
      },
      "outputs": [],
      "source": [
        "#from sklearn.ensemble import RandomForestClassifier\n",
        "\n",
        "# Create an instance of the RandomForestClassifier\n",
        "rf = RandomForestClassifier()\n",
        "\n",
        "# Now you can fit the model\n",
        "#rf.fit(x_train, y_train)"
      ]
    },
    {
      "cell_type": "code",
      "execution_count": 49,
      "metadata": {
        "colab": {
          "base_uri": "https://localhost:8080/",
          "height": 74
        },
        "id": "uyp0IqqqBkJ6",
        "outputId": "089423b8-eb12-4c13-8419-7da0ed75361d"
      },
      "outputs": [
        {
          "data": {
            "text/html": [
              "<style>#sk-container-id-2 {color: black;background-color: white;}#sk-container-id-2 pre{padding: 0;}#sk-container-id-2 div.sk-toggleable {background-color: white;}#sk-container-id-2 label.sk-toggleable__label {cursor: pointer;display: block;width: 100%;margin-bottom: 0;padding: 0.3em;box-sizing: border-box;text-align: center;}#sk-container-id-2 label.sk-toggleable__label-arrow:before {content: \"▸\";float: left;margin-right: 0.25em;color: #696969;}#sk-container-id-2 label.sk-toggleable__label-arrow:hover:before {color: black;}#sk-container-id-2 div.sk-estimator:hover label.sk-toggleable__label-arrow:before {color: black;}#sk-container-id-2 div.sk-toggleable__content {max-height: 0;max-width: 0;overflow: hidden;text-align: left;background-color: #f0f8ff;}#sk-container-id-2 div.sk-toggleable__content pre {margin: 0.2em;color: black;border-radius: 0.25em;background-color: #f0f8ff;}#sk-container-id-2 input.sk-toggleable__control:checked~div.sk-toggleable__content {max-height: 200px;max-width: 100%;overflow: auto;}#sk-container-id-2 input.sk-toggleable__control:checked~label.sk-toggleable__label-arrow:before {content: \"▾\";}#sk-container-id-2 div.sk-estimator input.sk-toggleable__control:checked~label.sk-toggleable__label {background-color: #d4ebff;}#sk-container-id-2 div.sk-label input.sk-toggleable__control:checked~label.sk-toggleable__label {background-color: #d4ebff;}#sk-container-id-2 input.sk-hidden--visually {border: 0;clip: rect(1px 1px 1px 1px);clip: rect(1px, 1px, 1px, 1px);height: 1px;margin: -1px;overflow: hidden;padding: 0;position: absolute;width: 1px;}#sk-container-id-2 div.sk-estimator {font-family: monospace;background-color: #f0f8ff;border: 1px dotted black;border-radius: 0.25em;box-sizing: border-box;margin-bottom: 0.5em;}#sk-container-id-2 div.sk-estimator:hover {background-color: #d4ebff;}#sk-container-id-2 div.sk-parallel-item::after {content: \"\";width: 100%;border-bottom: 1px solid gray;flex-grow: 1;}#sk-container-id-2 div.sk-label:hover label.sk-toggleable__label {background-color: #d4ebff;}#sk-container-id-2 div.sk-serial::before {content: \"\";position: absolute;border-left: 1px solid gray;box-sizing: border-box;top: 0;bottom: 0;left: 50%;z-index: 0;}#sk-container-id-2 div.sk-serial {display: flex;flex-direction: column;align-items: center;background-color: white;padding-right: 0.2em;padding-left: 0.2em;position: relative;}#sk-container-id-2 div.sk-item {position: relative;z-index: 1;}#sk-container-id-2 div.sk-parallel {display: flex;align-items: stretch;justify-content: center;background-color: white;position: relative;}#sk-container-id-2 div.sk-item::before, #sk-container-id-2 div.sk-parallel-item::before {content: \"\";position: absolute;border-left: 1px solid gray;box-sizing: border-box;top: 0;bottom: 0;left: 50%;z-index: -1;}#sk-container-id-2 div.sk-parallel-item {display: flex;flex-direction: column;z-index: 1;position: relative;background-color: white;}#sk-container-id-2 div.sk-parallel-item:first-child::after {align-self: flex-end;width: 50%;}#sk-container-id-2 div.sk-parallel-item:last-child::after {align-self: flex-start;width: 50%;}#sk-container-id-2 div.sk-parallel-item:only-child::after {width: 0;}#sk-container-id-2 div.sk-dashed-wrapped {border: 1px dashed gray;margin: 0 0.4em 0.5em 0.4em;box-sizing: border-box;padding-bottom: 0.4em;background-color: white;}#sk-container-id-2 div.sk-label label {font-family: monospace;font-weight: bold;display: inline-block;line-height: 1.2em;}#sk-container-id-2 div.sk-label-container {text-align: center;}#sk-container-id-2 div.sk-container {/* jupyter's `normalize.less` sets `[hidden] { display: none; }` but bootstrap.min.css set `[hidden] { display: none !important; }` so we also need the `!important` here to be able to override the default hidden behavior on the sphinx rendered scikit-learn.org. See: https://github.com/scikit-learn/scikit-learn/issues/21755 */display: inline-block !important;position: relative;}#sk-container-id-2 div.sk-text-repr-fallback {display: none;}</style><div id=\"sk-container-id-2\" class=\"sk-top-container\"><div class=\"sk-text-repr-fallback\"><pre>RandomForestClassifier()</pre><b>In a Jupyter environment, please rerun this cell to show the HTML representation or trust the notebook. <br />On GitHub, the HTML representation is unable to render, please try loading this page with nbviewer.org.</b></div><div class=\"sk-container\" hidden><div class=\"sk-item\"><div class=\"sk-estimator sk-toggleable\"><input class=\"sk-toggleable__control sk-hidden--visually\" id=\"sk-estimator-id-2\" type=\"checkbox\" checked><label for=\"sk-estimator-id-2\" class=\"sk-toggleable__label sk-toggleable__label-arrow\">RandomForestClassifier</label><div class=\"sk-toggleable__content\"><pre>RandomForestClassifier()</pre></div></div></div></div></div>"
            ],
            "text/plain": [
              "RandomForestClassifier()"
            ]
          },
          "execution_count": 49,
          "metadata": {},
          "output_type": "execute_result"
        }
      ],
      "source": [
        "#from sklearn.ensemble import RandomForestClassifier\n",
        "\n",
        "# Create an instance of the RandomForestClassifier\n",
        "#rf = RandomForestClassifier()\n",
        "\n",
        "# Now you can fit the model\n",
        "rf.fit(x_train, y_train)"
      ]
    },
    {
      "cell_type": "code",
      "execution_count": 50,
      "metadata": {
        "id": "AuLQSfOLDgnU"
      },
      "outputs": [],
      "source": [
        "y_pred = rf.predict(x_test)"
      ]
    },
    {
      "cell_type": "code",
      "execution_count": 51,
      "metadata": {
        "colab": {
          "base_uri": "https://localhost:8080/",
          "height": 0
        },
        "id": "3eWmZEIYD9Y6",
        "outputId": "a5add04e-c341-44fd-90e2-6856ab4b8b72"
      },
      "outputs": [
        {
          "data": {
            "text/plain": [
              "array([1, 3, 3, 8, 3, 4, 5, 0, 4, 6, 3, 1, 9, 3, 4, 7, 8, 8, 5, 7, 2, 9,\n",
              "       2, 9, 3, 3, 7, 8, 9, 9, 1, 0, 5, 1, 4, 1, 9, 1, 6, 0, 8, 6, 7, 7,\n",
              "       0, 1, 4, 7, 3, 1, 7, 3, 2, 1, 1, 7, 8, 1, 1, 5, 4, 7, 2, 1, 6, 7,\n",
              "       6, 0, 8, 4, 2, 7, 5, 0, 9, 0, 2, 5, 4, 4, 1, 2, 1, 4, 3, 4, 9, 9,\n",
              "       6, 5, 6, 5, 1, 1, 6, 7, 6, 7, 5, 9, 0, 5, 6, 2, 6, 7, 0, 2, 6, 6,\n",
              "       2, 6, 0, 5, 8, 8, 3, 7, 2, 1, 7, 9, 8, 2, 9, 5, 6, 1, 0, 8, 0, 1,\n",
              "       9, 5, 1, 4, 6, 1, 9, 1, 1, 2, 6, 1, 4, 4, 6, 1, 3, 9, 3, 7, 1, 9,\n",
              "       5, 3, 6, 1, 8, 3, 6, 1, 7, 8, 9, 8, 8, 5, 3, 3, 9, 2, 1, 9, 2, 2,\n",
              "       3, 2, 8, 8, 4, 4, 6, 9, 3, 6, 9, 3, 9, 9, 8, 2, 7, 7, 9, 2, 5, 7,\n",
              "       0, 3, 5, 8, 6, 7, 9, 8, 4, 2, 6, 0, 2, 3, 5, 9, 3, 6, 0, 5, 0, 0,\n",
              "       7, 7, 1, 2, 7, 0, 0, 9, 4, 7, 5, 4, 1, 1, 4, 0, 7, 9, 1, 2, 3, 6,\n",
              "       7, 1, 3, 7, 3, 5, 3, 2, 2, 8, 7, 7, 9, 7, 1, 3, 5, 0, 9, 7, 7, 1,\n",
              "       9, 0, 3, 2, 5, 4, 5, 6, 5, 6, 1, 3, 1, 3, 4, 1, 4, 1, 2, 1, 6, 6,\n",
              "       6, 6, 2, 4, 7, 4, 0, 8, 1, 3, 7, 2, 6, 5, 9, 6, 1, 2, 8, 0, 8, 8,\n",
              "       4, 1, 5, 1, 7, 6, 7, 0, 2, 0, 3, 1, 7, 1, 7, 2, 9, 6, 7, 5, 0, 0,\n",
              "       3, 5, 9, 6, 8, 1, 6, 8, 6, 0, 7, 7, 2, 6, 5, 0, 1, 2, 9, 0, 6, 7,\n",
              "       6, 5, 6, 9, 4, 5, 1, 2, 6, 3, 8, 9, 0, 5, 2, 0, 5, 6, 7, 2, 1, 8,\n",
              "       4, 3, 0, 5, 3, 1, 6, 2, 0, 0, 5, 7, 5, 3, 5, 4, 5, 5, 0, 8, 9, 6,\n",
              "       2, 9, 6, 3, 2, 1, 7, 0, 4, 6, 1, 3, 5, 8, 2, 6, 8, 3, 3, 2, 2, 2,\n",
              "       3, 5, 6, 9, 4, 8, 4, 3, 5, 1, 1, 3, 5, 5, 0, 3, 3, 8, 8, 3, 4, 0,\n",
              "       2, 5, 1, 8, 4, 7, 5, 2, 6, 7, 4, 0, 0, 2, 7, 6, 2, 7, 0, 0, 0, 5,\n",
              "       6, 5, 5, 2, 5, 4, 8, 4, 4, 7, 3, 4, 3, 3, 3, 8, 3, 5, 0, 7, 8, 3,\n",
              "       3, 8, 8, 9, 7, 0, 5, 6, 4, 6, 1, 9, 2, 8, 1, 9, 2, 5, 3, 3, 9, 8,\n",
              "       4, 3, 0, 7, 7, 8, 1, 7, 3, 1, 4, 6, 7, 5, 7, 7, 8, 5, 6, 8, 3, 9,\n",
              "       1, 4, 2, 6, 8, 4, 2, 1, 7, 7, 9, 4])"
            ]
          },
          "execution_count": 51,
          "metadata": {},
          "output_type": "execute_result"
        }
      ],
      "source": [
        "y_pred"
      ]
    },
    {
      "cell_type": "code",
      "execution_count": 52,
      "metadata": {
        "id": "hZko4vXQEEDT"
      },
      "outputs": [],
      "source": [
        "from sklearn.metrics import confusion_matrix, classification_report"
      ]
    },
    {
      "cell_type": "code",
      "execution_count": 53,
      "metadata": {
        "colab": {
          "base_uri": "https://localhost:8080/",
          "height": 0
        },
        "id": "TiLPsFljEWe-",
        "outputId": "40543c42-f4ed-4101-d47f-a25bbd725d8e"
      },
      "outputs": [
        {
          "data": {
            "text/plain": [
              "array([[47,  0,  0,  0,  2,  0,  0,  0,  0,  0],\n",
              "       [ 0, 64,  0,  0,  0,  0,  0,  0,  0,  0],\n",
              "       [ 0,  0, 53,  0,  0,  0,  0,  0,  0,  0],\n",
              "       [ 1,  0,  0, 58,  0,  0,  0,  0,  0,  0],\n",
              "       [ 0,  0,  0,  0, 42,  0,  0,  2,  0,  0],\n",
              "       [ 0,  0,  0,  0,  0, 54,  0,  0,  0,  0],\n",
              "       [ 0,  0,  0,  0,  0,  1, 59,  0,  0,  0],\n",
              "       [ 0,  0,  0,  0,  1,  0,  0, 60,  0,  0],\n",
              "       [ 0,  0,  0,  1,  0,  1,  0,  0, 47,  1],\n",
              "       [ 0,  0,  0,  1,  0,  0,  0,  0,  0, 45]])"
            ]
          },
          "execution_count": 53,
          "metadata": {},
          "output_type": "execute_result"
        }
      ],
      "source": [
        "confusion_matrix(y_test,y_pred)"
      ]
    },
    {
      "cell_type": "code",
      "execution_count": 54,
      "metadata": {
        "colab": {
          "base_uri": "https://localhost:8080/",
          "height": 0
        },
        "id": "xwwEs3YPEfDJ",
        "outputId": "13a42d05-aa09-4047-eae0-7abfe0ad5a38"
      },
      "outputs": [
        {
          "name": "stdout",
          "output_type": "stream",
          "text": [
            "              precision    recall  f1-score   support\n",
            "\n",
            "           0       0.98      0.96      0.97        49\n",
            "           1       1.00      1.00      1.00        64\n",
            "           2       1.00      1.00      1.00        53\n",
            "           3       0.97      0.98      0.97        59\n",
            "           4       0.93      0.95      0.94        44\n",
            "           5       0.96      1.00      0.98        54\n",
            "           6       1.00      0.98      0.99        60\n",
            "           7       0.97      0.98      0.98        61\n",
            "           8       1.00      0.94      0.97        50\n",
            "           9       0.98      0.98      0.98        46\n",
            "\n",
            "    accuracy                           0.98       540\n",
            "   macro avg       0.98      0.98      0.98       540\n",
            "weighted avg       0.98      0.98      0.98       540\n",
            "\n"
          ]
        }
      ],
      "source": [
        "print(classification_report(y_test , y_pred))"
      ]
    },
    {
      "cell_type": "code",
      "execution_count": null,
      "metadata": {
        "id": "qg_HuKLMEuEh"
      },
      "outputs": [],
      "source": []
    }
  ],
  "metadata": {
    "colab": {
      "provenance": []
    },
    "kernelspec": {
      "display_name": "Python 3",
      "name": "python3"
    },
    "language_info": {
      "name": "python"
    }
  },
  "nbformat": 4,
  "nbformat_minor": 0
}
